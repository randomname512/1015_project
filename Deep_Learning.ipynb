{
 "cells": [
  {
   "cell_type": "code",
   "execution_count": 1,
   "id": "e27a24e5-2bfa-466d-9b1a-cd6aaf666daf",
   "metadata": {},
   "outputs": [],
   "source": [
    "import numpy as np\n",
    "import pandas as pd\n",
    "import tensorflow as tf\n",
    "import re\n",
    "from datetime import datetime\n",
    "from string import punctuation \n",
    "from bs4 import BeautifulSoup\n",
    "import nltk\n",
    "from nltk.corpus import stopwords\n",
    "from nltk.stem import WordNetLemmatizer\n",
    "from tensorflow.keras.preprocessing.text import Tokenizer \n",
    "from tensorflow.keras.preprocessing.sequence import pad_sequences\n",
    "from sklearn.preprocessing import StandardScaler\n",
    "from keras.models import Model\n",
    "from tensorflow.keras.layers import Input, LSTM, Embedding, Dense, concatenate,LayerNormalization\n",
    "from keras.optimizers import Adam\n",
    "from keras.callbacks import EarlyStopping\n",
    "from tensorflow import keras\n",
    "from sklearn import metrics"
   ]
  },
  {
   "cell_type": "code",
   "execution_count": 2,
   "id": "848eab7d-26e6-4049-8121-54c80c0d8251",
   "metadata": {
    "tags": []
   },
   "outputs": [
    {
     "data": {
      "text/plain": [
       "(37422, 12)"
      ]
     },
     "execution_count": 2,
     "metadata": {},
     "output_type": "execute_result"
    }
   ],
   "source": [
    "seed = 71351825\n",
    "dataset = pd.read_csv('data/youtube_dislike_dataset.csv')\n",
    "dataset.shape"
   ]
  },
  {
   "cell_type": "code",
   "execution_count": 3,
   "id": "fcaaf7ec-0945-4295-aafa-4f8b4a4cda1c",
   "metadata": {
    "tags": []
   },
   "outputs": [
    {
     "data": {
      "text/html": [
       "<div>\n",
       "<style scoped>\n",
       "    .dataframe tbody tr th:only-of-type {\n",
       "        vertical-align: middle;\n",
       "    }\n",
       "\n",
       "    .dataframe tbody tr th {\n",
       "        vertical-align: top;\n",
       "    }\n",
       "\n",
       "    .dataframe thead th {\n",
       "        text-align: right;\n",
       "    }\n",
       "</style>\n",
       "<table border=\"1\" class=\"dataframe\">\n",
       "  <thead>\n",
       "    <tr style=\"text-align: right;\">\n",
       "      <th></th>\n",
       "      <th>view_count</th>\n",
       "      <th>published_at</th>\n",
       "      <th>likes</th>\n",
       "      <th>comment_count</th>\n",
       "      <th>tags</th>\n",
       "      <th>description</th>\n",
       "      <th>dislikes</th>\n",
       "    </tr>\n",
       "  </thead>\n",
       "  <tbody>\n",
       "    <tr>\n",
       "      <th>1</th>\n",
       "      <td>15352638</td>\n",
       "      <td>2021-06-10 16:00:00</td>\n",
       "      <td>359277</td>\n",
       "      <td>18729</td>\n",
       "      <td>Migos Avalanche Quality Control Music/Motown R...</td>\n",
       "      <td>Watch the the official video for Migos - \"Aval...</td>\n",
       "      <td>7479</td>\n",
       "    </tr>\n",
       "    <tr>\n",
       "      <th>2</th>\n",
       "      <td>925281</td>\n",
       "      <td>2021-09-20 01:03:32</td>\n",
       "      <td>11212</td>\n",
       "      <td>831</td>\n",
       "      <td></td>\n",
       "      <td>Hannah Waddingham wins the Emmy for Supporting...</td>\n",
       "      <td>401</td>\n",
       "    </tr>\n",
       "    <tr>\n",
       "      <th>4</th>\n",
       "      <td>715724</td>\n",
       "      <td>2021-12-07 13:00:00</td>\n",
       "      <td>32887</td>\n",
       "      <td>1067</td>\n",
       "      <td>retaining wall New Jersey highway Direct Conne...</td>\n",
       "      <td>One of the most important (and innocuous) part...</td>\n",
       "      <td>367</td>\n",
       "    </tr>\n",
       "    <tr>\n",
       "      <th>5</th>\n",
       "      <td>36124750</td>\n",
       "      <td>2021-12-01 09:00:03</td>\n",
       "      <td>965069</td>\n",
       "      <td>59657</td>\n",
       "      <td>Kpop girl group 1theK Starshiptv starship   MV...</td>\n",
       "      <td>IVE Twitter\\n: https://twitter.com/IVEstarship...</td>\n",
       "      <td>16618</td>\n",
       "    </tr>\n",
       "    <tr>\n",
       "      <th>8</th>\n",
       "      <td>535044</td>\n",
       "      <td>2021-08-06 12:10:25</td>\n",
       "      <td>9207</td>\n",
       "      <td>1900</td>\n",
       "      <td>the breakfast club breakfast club power1051 ce...</td>\n",
       "      <td>Subscribe NOW to The Breakfast Club: http://ih...</td>\n",
       "      <td>384</td>\n",
       "    </tr>\n",
       "  </tbody>\n",
       "</table>\n",
       "</div>"
      ],
      "text/plain": [
       "   view_count         published_at   likes  comment_count   \n",
       "1    15352638  2021-06-10 16:00:00  359277          18729  \\\n",
       "2      925281  2021-09-20 01:03:32   11212            831   \n",
       "4      715724  2021-12-07 13:00:00   32887           1067   \n",
       "5    36124750  2021-12-01 09:00:03  965069          59657   \n",
       "8      535044  2021-08-06 12:10:25    9207           1900   \n",
       "\n",
       "                                                tags   \n",
       "1  Migos Avalanche Quality Control Music/Motown R...  \\\n",
       "2                                                      \n",
       "4  retaining wall New Jersey highway Direct Conne...   \n",
       "5  Kpop girl group 1theK Starshiptv starship   MV...   \n",
       "8  the breakfast club breakfast club power1051 ce...   \n",
       "\n",
       "                                         description  dislikes  \n",
       "1  Watch the the official video for Migos - \"Aval...      7479  \n",
       "2  Hannah Waddingham wins the Emmy for Supporting...       401  \n",
       "4  One of the most important (and innocuous) part...       367  \n",
       "5  IVE Twitter\\n: https://twitter.com/IVEstarship...     16618  \n",
       "8  Subscribe NOW to The Breakfast Club: http://ih...       384  "
      ]
     },
     "execution_count": 3,
     "metadata": {},
     "output_type": "execute_result"
    }
   ],
   "source": [
    "#select data to use\n",
    "file_US_ids = open(\"data/unique_ids_US.txt\", \"r\")\n",
    "US_ids = file_US_ids.read().splitlines()\n",
    "dataset = dataset[dataset['video_id'].isin(US_ids)]\n",
    "dataset = dataset[['view_count', 'published_at','likes', 'comment_count','tags','description','dislikes']]\n",
    "dataset.head()"
   ]
  },
  {
   "cell_type": "code",
   "execution_count": 4,
   "id": "84439fa9-89ef-4eec-b07b-d5d64bc47155",
   "metadata": {
    "tags": []
   },
   "outputs": [
    {
     "data": {
      "text/plain": [
       "view_count       0\n",
       "published_at     0\n",
       "likes            0\n",
       "comment_count    0\n",
       "tags             0\n",
       "description      0\n",
       "dislikes         0\n",
       "dtype: int64"
      ]
     },
     "execution_count": 4,
     "metadata": {},
     "output_type": "execute_result"
    }
   ],
   "source": [
    "#remove null values\n",
    "dataset.replace(\" \", np.nan, inplace=True)\n",
    "dataset = dataset.dropna()\n",
    "dataset.isna().sum()"
   ]
  },
  {
   "cell_type": "code",
   "execution_count": 5,
   "id": "782e2cf4-6b5d-4529-ab4b-36f1d866eb53",
   "metadata": {},
   "outputs": [],
   "source": [
    "#time between video posted and data extracted.\n",
    "def calTime(time):\n",
    "  start = datetime.strptime(time, '%Y-%m-%d %H:%M:%S')\n",
    "  end =   datetime.strptime('13/12/2021 00:00:00', '%d/%m/%Y %H:%M:%S') # assuming this is the date that this dataset was extracted\n",
    "  return np.round((end - start).total_seconds() / 60, 2)\n",
    "\n",
    "dataset['timesec'] = dataset['published_at'].apply(calTime)"
   ]
  },
  {
   "cell_type": "code",
   "execution_count": 6,
   "id": "ee4861ff-caec-4276-b9a1-5f61fca94d04",
   "metadata": {
    "tags": []
   },
   "outputs": [
    {
     "name": "stderr",
     "output_type": "stream",
     "text": [
      "[nltk_data] Downloading package stopwords to\n",
      "[nltk_data]     C:\\Users\\laush\\AppData\\Roaming\\nltk_data...\n",
      "[nltk_data]   Package stopwords is already up-to-date!\n",
      "[nltk_data] Downloading package wordnet to\n",
      "[nltk_data]     C:\\Users\\laush\\AppData\\Roaming\\nltk_data...\n",
      "[nltk_data]   Package wordnet is already up-to-date!\n",
      "[nltk_data] Downloading package omw-1.4 to\n",
      "[nltk_data]     C:\\Users\\laush\\AppData\\Roaming\\nltk_data...\n",
      "[nltk_data]   Package omw-1.4 is already up-to-date!\n",
      "[nltk_data] Downloading package words to\n",
      "[nltk_data]     C:\\Users\\laush\\AppData\\Roaming\\nltk_data...\n",
      "[nltk_data]   Package words is already up-to-date!\n"
     ]
    }
   ],
   "source": [
    "#text cleaning init\n",
    "nltk.download('stopwords')\n",
    "nltk.download('wordnet')\n",
    "nltk.download('omw-1.4')\n",
    "nltk.download('words')\n",
    "\n",
    "contraction_map={\n",
    "    \"ain't\": \"is not\",\n",
    "    \"aren't\": \"are not\",\n",
    "    \"can't\": \"cannot\",\n",
    "    \"cause\": \"because\",\n",
    "    \"could've\": \"could have\",\n",
    "    \"couldn't\": \"could not\",\n",
    "    \"couldn't've\": \"could not have\",\n",
    "    \"didn't\": \"did not\",\n",
    "    \"doesn't\": \"does not\",\n",
    "    \"don't\": \"do not\",\n",
    "    \"hadn't\": \"had not\",\n",
    "    \"hadn't've\": \"had not have\",\n",
    "    \"hasn't\": \"has not\",\n",
    "    \"haven't\": \"have not\",\n",
    "    \"he'd\": \"he would\",\n",
    "    \"he'd've\": \"he would have\",\n",
    "    \"he'll\": \"he will\",\n",
    "    \"he'll've\": \"he will have\",\n",
    "    \"he's\": \"he is\",\n",
    "    \"how'd\": \"how did\",\n",
    "    \"how'd've\": \"how did have\",\n",
    "    \"how'll\": \"how will\",\n",
    "    \"how's\": \"how is\",\n",
    "    \"I'd\": \"I would\",\n",
    "    \"I'd've\": \"I would have\",\n",
    "    \"I'll\": \"I will\",\n",
    "    \"I'll've\": \"I will have\",\n",
    "    \"I'm\": \"I am\",\n",
    "    \"I've\": \"I have\",\n",
    "    \"i'd\": \"i would\",\n",
    "    \"i'd've\": \"i would have\",\n",
    "    \"i'll\": \"i will\",\n",
    "    \"i'll've\": \"i will have\",\n",
    "    \"i'm\": \"i am\",\n",
    "    \"i've\": \"i have\",\n",
    "    \"isn't\": \"is not\",\n",
    "    \"it'd\": \"it would\",\n",
    "    \"it'd've\": \"it would have\",\n",
    "    \"it'll\": \"it will\",\n",
    "    \"it'll've\": \"it will have\",\n",
    "    \"it's\": \"it is\",\n",
    "    \"let's\": \"let us\",\n",
    "    \"ma'am\": \"madam\",\n",
    "    \"mayn't\": \"may not\",\n",
    "    \"might've\": \"might have\",\n",
    "    \"mightn't\": \"might not\",\n",
    "    \"mightn't've\": \"might not have\",\n",
    "    \"must've\": \"might have\",\n",
    "    \"mustn't\": \"must not\",\n",
    "    \"mustn't've\": \"must not have\",\n",
    "    \"needn't\": \"need not\",\n",
    "    \"needn't've\": \"need not have\",\n",
    "    \"o'clock\": \"of the clock\",\n",
    "    \"oughtn't\": \"ought not\",\n",
    "    \"oughtn't've\": \"ought not have\",\n",
    "    \"shan't\": \"shall not\",\n",
    "    \"shall'n't\": \"shall not\",\n",
    "    \"shan't've\": \"shall not have\",\n",
    "    \"she'd\": \"she would\",\n",
    "    \"she'd've\": \"she would have\",\n",
    "    \"she'll\": \"she will\",\n",
    "    \"she'll've\": \"she will have\",\n",
    "    \"she's\": \"she is\",\n",
    "    \"should've\": \"should have\",\n",
    "    \"shouldn't\": \"should not\",\n",
    "    \"shouldn't've\": \"should not have\",\n",
    "    \"so've\": \"so have\",\n",
    "    \"so's\": \"so as\",\n",
    "    \"that'd\": \"that would\",\n",
    "    \"that'd've\": \"that would have\",\n",
    "    \"that's\": \"that is\",\n",
    "    \"there'd\": \"there would\",\n",
    "    \"there'd've\": \"there would have\",\n",
    "    \"there's\": \"there is\",\n",
    "    \"they'd\": \"they would\",\n",
    "    \"they'd've\": \"they would have\",\n",
    "    \"they'll\": \"they will\",\n",
    "    \"they'll've\": \"they will have\",\n",
    "    \"they're\": \"they are\",\n",
    "    \"they've\": \"they have\",\n",
    "    \"to've\": \"to have\",\n",
    "    \"wasn't\": \"was not\",\n",
    "    \"we'd\": \"we would\",\n",
    "    \"we'd've\": \"we would have\",\n",
    "    \"we'll\": \"we will\",\n",
    "    \"we'll've\": \"we will have\",\n",
    "    \"we're\": \"we are\",\n",
    "    \"weren't\": \"were not\",\n",
    "    \"what'll\": \"what will\",\n",
    "    \"what'll've\": \"what will have\",\n",
    "    \"what're\": \"what are\",\n",
    "    \"what's\": \"what is\",\n",
    "    \"what've\": \"what have\",\n",
    "    \"when's\": \"when is\",\n",
    "    \"when've\": \"when have\",\n",
    "    \"where'd\": \"where did\",\n",
    "    \"where's\": \"where is\",\n",
    "    \"where've\": \"where have\",\n",
    "    \"who'll\": \"who will\",\n",
    "    \"who'll've\": \"who will have\",\n",
    "    \"who's\": \"who is\",\n",
    "    \"who've\": \"who have\",\n",
    "    \"why's\": \"why is\",\n",
    "    \"why've\": \"why have\",\n",
    "    \"will've\": \"will have\",\n",
    "    \"won't\": \"will not\",\n",
    "    \"will't've\": \"will not have\",\n",
    "    \"would've\": \"would have\",\n",
    "    \"would't\": \"would not\",\n",
    "    \"would't've\": \"would not have\",\n",
    "    \"y'all\": \"you all\",\n",
    "    \"y'all'd\": \"you all would\",\n",
    "    \"y'all'd've\": \"you all would have\",\n",
    "    \"y'all're\": \"you all are\",\n",
    "    \"y'all've\": \"you have all\",\n",
    "    \"you'd\": \"you would\",\n",
    "    \"you'd've\": \"you would have\",\n",
    "    \"you'll\": \"you will\",\n",
    "    \"you'll've\": \"you will have\",\n",
    "    \"you're\": \"you are\",\n",
    "    \"you've\": \"you have\",\n",
    "}"
   ]
  },
  {
   "cell_type": "code",
   "execution_count": 7,
   "id": "b15f3298-3a71-4c72-8b0c-db56cb263a58",
   "metadata": {},
   "outputs": [],
   "source": [
    "#text cleaning function\n",
    "lemmatizer = WordNetLemmatizer()\n",
    "in_words = set(nltk.corpus.words.words())\n",
    "def clean_text(text):\n",
    "    text = str(text)\n",
    "    text = BeautifulSoup(text, \"lxml\").text\n",
    "    text = re.sub(r'\\([^)]*\\)', '', text)\n",
    "    text = re.sub('\"','', text)\n",
    "    text = ' '.join([contraction_map[t] if t in contraction_map else t for t in text.split(\" \")])\n",
    "    text = re.sub(r\"'s\\b\",\"\",text)\n",
    "    text = re.sub(\"[^a-zA-Z]\", \" \", text)\n",
    "    text = \" \".join(w for w in nltk.wordpunct_tokenize(text) if w.lower() in in_words or not w.isalpha())\n",
    "\n",
    "    text = [word for word in text.split( ) if word not in stopwords.words('english')]\n",
    "    text = [lemmatizer.lemmatize(word) for word in text]\n",
    "    text = \" \".join(text)\n",
    "    text = text.lower()\n",
    "    return text"
   ]
  },
  {
   "cell_type": "code",
   "execution_count": 8,
   "id": "ec049d39-bee3-42a8-81ff-1a5c820e03f0",
   "metadata": {
    "tags": []
   },
   "outputs": [
    {
     "name": "stderr",
     "output_type": "stream",
     "text": [
      "C:\\Users\\laush\\AppData\\Local\\Temp\\ipykernel_3796\\3567969374.py:6: MarkupResemblesLocatorWarning: The input looks more like a filename than markup. You may want to open this file and pass the filehandle into Beautiful Soup.\n",
      "  text = BeautifulSoup(text, \"lxml\").text\n",
      "C:\\Users\\laush\\AppData\\Local\\Temp\\ipykernel_3796\\3567969374.py:6: MarkupResemblesLocatorWarning: The input looks more like a URL than markup. You may want to use an HTTP client like requests to get the document behind the URL, and feed that document to Beautiful Soup.\n",
      "  text = BeautifulSoup(text, \"lxml\").text\n"
     ]
    },
    {
     "name": "stdout",
     "output_type": "stream",
     "text": [
      "CPU times: total: 3min 18s\n",
      "Wall time: 3min 18s\n"
     ]
    },
    {
     "name": "stderr",
     "output_type": "stream",
     "text": [
      "C:\\Users\\laush\\AppData\\Local\\Temp\\ipykernel_3796\\3567969374.py:6: MarkupResemblesLocatorWarning: The input looks more like a filename than markup. You may want to open this file and pass the filehandle into Beautiful Soup.\n",
      "  text = BeautifulSoup(text, \"lxml\").text\n"
     ]
    },
    {
     "name": "stdout",
     "output_type": "stream",
     "text": [
      "CPU times: total: 45.2 s\n",
      "Wall time: 45.2 s\n"
     ]
    }
   ],
   "source": [
    "%time dataset['clean_description'] = dataset['description'].apply(clean_text)\n",
    "%time dataset['clean_tags'] = dataset['tags'].apply(clean_text)"
   ]
  },
  {
   "cell_type": "code",
   "execution_count": 9,
   "id": "55f90bdb-89b4-46ff-b1b6-cbee710bae19",
   "metadata": {
    "tags": []
   },
   "outputs": [],
   "source": [
    "#data splitting\n",
    "dataset_train = dataset.sample(frac = 0.9,random_state = seed)\n",
    "dataset_test = dataset.drop(dataset_train.index)\n",
    "\n",
    "X_train = dataset_train.loc[:, dataset.columns != 'dislikes']\n",
    "Y_train = dataset_train['dislikes'].values\n",
    "X_test = dataset_test.loc[:, dataset.columns != 'dislikes']\n",
    "Y_test = dataset_test['dislikes'].values\n",
    "X_train_numaric = X_train[['view_count', 'likes', 'comment_count', 'timesec']].values\n",
    "X_train_tags = X_train['clean_tags'].values\n",
    "X_train_desc = X_train['clean_description'].values\n",
    "X_test_numaric = X_test[['view_count', 'likes', 'comment_count', 'timesec']].values\n",
    "X_test_tags = X_test['clean_tags'].values\n",
    "X_test_desc = X_test['clean_description'].values"
   ]
  },
  {
   "cell_type": "code",
   "execution_count": 10,
   "id": "2d05b45f-02cc-4f7a-9eeb-8594d034a3b7",
   "metadata": {
    "tags": []
   },
   "outputs": [
    {
     "data": {
      "text/plain": [
       "((12182, 100, 1), (12182, 100, 1), (12182, 4))"
      ]
     },
     "execution_count": 10,
     "metadata": {},
     "output_type": "execute_result"
    }
   ],
   "source": [
    "#tokenize text data(split data into smaller chunks for machine learning)\n",
    "def Tokenizer_func(train,test, max_words_length=0, max_seq_len=100):\n",
    "    tokenizer = Tokenizer()\n",
    "    tokenizer.fit_on_texts(train)\n",
    "    \n",
    "    max_words = 0\n",
    "    if max_words_length > 0:\n",
    "        max_words = max_words_length\n",
    "    else:\n",
    "        max_words = len(tokenizer.word_counts.items())\n",
    "\n",
    "    tokenizer = Tokenizer(num_words=max_words)\n",
    "    tokenizer.fit_on_texts(train)\n",
    "\n",
    "    train_sequences = tokenizer.texts_to_sequences(train)\n",
    "    test_sequences = tokenizer.texts_to_sequences(test)\n",
    "    \n",
    "    train = pad_sequences(train_sequences,maxlen=max_seq_len, padding='post')\n",
    "    test = pad_sequences(test_sequences,maxlen=max_seq_len, padding='post')\n",
    "    \n",
    "    voc = tokenizer.num_words +1\n",
    "    return {'train': train, 'test': test, 'voc': voc, 'max_words':max_words, 'tokenizer': tokenizer}\n",
    "tags_later = X_train_tags.copy()\n",
    "desc_later = X_train_desc.copy()\n",
    "\n",
    "X_tags_processed = Tokenizer_func(X_train_tags,X_test_tags)\n",
    "X_train_tags,X_test_tags,x_tags_voc,x_tags_max_words,x_tag_tok = X_tags_processed['train'], X_tags_processed['test'],X_tags_processed['voc'],X_tags_processed['max_words'],X_tags_processed['tokenizer']\n",
    "X_desc_processed = Tokenizer_func(X_train_desc,X_test_desc)\n",
    "X_train_desc, X_test_desc,x_desc_voc,x_desc_max_words,x_desc_tok = X_desc_processed['train'], X_desc_processed['test'],X_desc_processed['voc'],X_desc_processed['max_words'],X_desc_processed['tokenizer']\n",
    "X_train_tags = np.reshape(X_train_tags,(X_train_tags.shape[0],X_train_tags.shape[1],1))\n",
    "X_train_desc = np.reshape(X_train_desc,(X_train_desc.shape[0],X_train_desc.shape[1],1))\n",
    "X_train_tags.shape, X_train_desc.shape, X_train_numaric.shape"
   ]
  },
  {
   "cell_type": "code",
   "execution_count": 11,
   "id": "745ab74a-416e-4fb9-8310-c0a876162d90",
   "metadata": {},
   "outputs": [],
   "source": [
    "#normalize numerical data\n",
    "Sc = StandardScaler()\n",
    "X_train_numaric = Sc.fit_transform(X_train_numaric)\n",
    "X_test_numaric = Sc.transform(X_test_numaric)"
   ]
  },
  {
   "cell_type": "code",
   "execution_count": 12,
   "id": "76c33603-a8b3-4820-85a6-80d80bd64990",
   "metadata": {
    "tags": []
   },
   "outputs": [
    {
     "name": "stdout",
     "output_type": "stream",
     "text": [
      "Model: \"model\"\n",
      "__________________________________________________________________________________________________\n",
      " Layer (type)                   Output Shape         Param #     Connected to                     \n",
      "==================================================================================================\n",
      " tags (InputLayer)              [(None, None)]       0           []                               \n",
      "                                                                                                  \n",
      " desc (InputLayer)              [(None, None)]       0           []                               \n",
      "                                                                                                  \n",
      " embedding (Embedding)          (None, None, 8)      70968       ['tags[0][0]']                   \n",
      "                                                                                                  \n",
      " embedding_1 (Embedding)        (None, None, 8)      128728      ['desc[0][0]']                   \n",
      "                                                                                                  \n",
      " lstm (LSTM)                    (None, None, 100)    43600       ['embedding[0][0]']              \n",
      "                                                                                                  \n",
      " lstm_2 (LSTM)                  (None, None, 100)    43600       ['embedding_1[0][0]']            \n",
      "                                                                                                  \n",
      " layer_normalization (LayerNorm  (None, None, 100)   200         ['lstm[0][0]']                   \n",
      " alization)                                                                                       \n",
      "                                                                                                  \n",
      " layer_normalization_2 (LayerNo  (None, None, 100)   200         ['lstm_2[0][0]']                 \n",
      " rmalization)                                                                                     \n",
      "                                                                                                  \n",
      " lstm_1 (LSTM)                  (None, 100)          80400       ['layer_normalization[0][0]']    \n",
      "                                                                                                  \n",
      " lstm_3 (LSTM)                  (None, 100)          80400       ['layer_normalization_2[0][0]']  \n",
      "                                                                                                  \n",
      " layer_normalization_1 (LayerNo  (None, 100)         200         ['lstm_1[0][0]']                 \n",
      " rmalization)                                                                                     \n",
      "                                                                                                  \n",
      " layer_normalization_3 (LayerNo  (None, 100)         200         ['lstm_3[0][0]']                 \n",
      " rmalization)                                                                                     \n",
      "                                                                                                  \n",
      " numaric (InputLayer)           [(None, 4)]          0           []                               \n",
      "                                                                                                  \n",
      " concatenate (Concatenate)      (None, 204)          0           ['layer_normalization_1[0][0]',  \n",
      "                                                                  'layer_normalization_3[0][0]',  \n",
      "                                                                  'numaric[0][0]']                \n",
      "                                                                                                  \n",
      " dense (Dense)                  (None, 256)          52480       ['concatenate[0][0]']            \n",
      "                                                                                                  \n",
      " dense_1 (Dense)                (None, 128)          32896       ['dense[0][0]']                  \n",
      "                                                                                                  \n",
      " dense_2 (Dense)                (None, 32)           4128        ['dense_1[0][0]']                \n",
      "                                                                                                  \n",
      " dense_3 (Dense)                (None, 1)            33          ['dense_2[0][0]']                \n",
      "                                                                                                  \n",
      "==================================================================================================\n",
      "Total params: 538,033\n",
      "Trainable params: 538,033\n",
      "Non-trainable params: 0\n",
      "__________________________________________________________________________________________________\n"
     ]
    }
   ],
   "source": [
    "#define model\n",
    "tagsInput = Input(shape=(None,), name='tags')\n",
    "descInput = Input(shape=(None,), name='desc')\n",
    "numaricInput = Input(shape=(4,), name='numaric')\n",
    "\n",
    "tags = Embedding(input_dim=x_tags_voc,output_dim=8,input_length=x_tags_max_words)(tagsInput)\n",
    "tags = LSTM(100,dropout=0.2, return_sequences=True)(tags)\n",
    "tags = LayerNormalization()(tags)\n",
    "tags = LSTM(100,dropout=0.4, return_sequences=False)(tags)\n",
    "tags = LayerNormalization()(tags)\n",
    "\n",
    "desc = Embedding(input_dim=x_desc_voc,output_dim=8,input_length=x_desc_max_words)(descInput)\n",
    "desc = LSTM(100,dropout=0.2, return_sequences=True)(desc)\n",
    "desc = LayerNormalization()(desc)\n",
    "desc = LSTM(100,dropout=0.4, return_sequences=False)(desc)\n",
    "desc = LayerNormalization()(desc)\n",
    "\n",
    "combined = concatenate([tags, desc,numaricInput])\n",
    "x = Dense(256,activation='relu')(combined)\n",
    "x = Dense(128,activation='relu')(x)\n",
    "x = Dense(32,activation='relu')(x)\n",
    "x = Dense(1,use_bias=True,activation='linear')(x)\n",
    "model = Model([tagsInput, descInput,numaricInput], x)\n",
    "model.compile(loss='mean_squared_error', optimizer=Adam(learning_rate=0.001, decay=0.001 / 20), metrics=['mae'])\n",
    "model.summary()"
   ]
  },
  {
   "cell_type": "code",
   "execution_count": 13,
   "id": "d6cea713-852b-48a4-b94d-0601dd87814c",
   "metadata": {
    "tags": []
   },
   "outputs": [],
   "source": [
    "#early stopping to avoid overfitting to training data and train model\n",
    "es = EarlyStopping(monitor='val_loss', mode='min', verbose=1, patience=20)\n",
    "def train_and_save():\n",
    "    history = model.fit(\n",
    "                        x=[X_train_tags, X_train_desc,X_train_numaric],\n",
    "                        y=Y_train,\n",
    "                        epochs=500, \n",
    "                        batch_size=25,\n",
    "                        validation_split=0.2,\n",
    "                        verbose=1,\n",
    "                        callbacks=[es])\n",
    "    model.save('model/model')\n",
    "#train_and_save()\n",
    "model = tf.keras.models.load_model('model/model')"
   ]
  },
  {
   "cell_type": "code",
   "execution_count": 14,
   "id": "0873401e-e0ab-4185-bde4-b6b3a6b51943",
   "metadata": {
    "tags": []
   },
   "outputs": [
    {
     "name": "stdout",
     "output_type": "stream",
     "text": [
      "43/43 [==============================] - 2s 24ms/step\n",
      "Mean Absolute Error (MAE) - Test data :  3029.742593649747\n",
      "Mean Squared Error (MSE) - Test data :  171496561.4450279\n",
      "Root Mean Squared Error (RMSE) - Test data :  13095.669568411839\n",
      "Co-efficient of determination (R2 Score):  0.5509276035537167\n"
     ]
    }
   ],
   "source": [
    "#prediction on test data\n",
    "prediction = model.predict([X_test_tags, X_test_desc, X_test_numaric])\n",
    "\n",
    "print(\"Mean Absolute Error (MAE) - Test data : \", metrics.mean_absolute_error(Y_test, prediction))\n",
    "print(\"Mean Squared Error (MSE) - Test data : \", metrics.mean_squared_error(Y_test, prediction))\n",
    "print(\"Root Mean Squared Error (RMSE) - Test data : \", np.sqrt(metrics.mean_squared_error(Y_test, prediction)))\n",
    "print(\"Co-efficient of determination (R2 Score): \", metrics.r2_score(Y_test, prediction))"
   ]
  },
  {
   "cell_type": "code",
   "execution_count": 15,
   "id": "c38b2981-e067-4290-a803-b6367aea5fe0",
   "metadata": {
    "tags": []
   },
   "outputs": [
    {
     "data": {
      "text/html": [
       "<div>\n",
       "<style scoped>\n",
       "    .dataframe tbody tr th:only-of-type {\n",
       "        vertical-align: middle;\n",
       "    }\n",
       "\n",
       "    .dataframe tbody tr th {\n",
       "        vertical-align: top;\n",
       "    }\n",
       "\n",
       "    .dataframe thead th {\n",
       "        text-align: right;\n",
       "    }\n",
       "</style>\n",
       "<table border=\"1\" class=\"dataframe\">\n",
       "  <thead>\n",
       "    <tr style=\"text-align: right;\">\n",
       "      <th></th>\n",
       "      <th>view_count</th>\n",
       "      <th>published_at</th>\n",
       "      <th>likes</th>\n",
       "      <th>comment_count</th>\n",
       "      <th>tags</th>\n",
       "      <th>description</th>\n",
       "      <th>dislikes</th>\n",
       "    </tr>\n",
       "  </thead>\n",
       "  <tbody>\n",
       "    <tr>\n",
       "      <th>0</th>\n",
       "      <td>748374</td>\n",
       "      <td>2017-11-13T17:13:01.000Z</td>\n",
       "      <td>57527</td>\n",
       "      <td>15954</td>\n",
       "      <td>SHANtell martin</td>\n",
       "      <td>SHANTELL'S CHANNEL - https://www.youtube.com/s...</td>\n",
       "      <td>2966</td>\n",
       "    </tr>\n",
       "    <tr>\n",
       "      <th>1</th>\n",
       "      <td>2418783</td>\n",
       "      <td>2017-11-13T07:30:00.000Z</td>\n",
       "      <td>97185</td>\n",
       "      <td>12703</td>\n",
       "      <td>last week tonight trump presidency|\"last week ...</td>\n",
       "      <td>One year after the presidential election, John...</td>\n",
       "      <td>6146</td>\n",
       "    </tr>\n",
       "    <tr>\n",
       "      <th>2</th>\n",
       "      <td>3191434</td>\n",
       "      <td>2017-11-12T19:05:24.000Z</td>\n",
       "      <td>146033</td>\n",
       "      <td>8181</td>\n",
       "      <td>racist superman|\"rudy\"|\"mancuso\"|\"king\"|\"bach\"...</td>\n",
       "      <td>WATCH MY PREVIOUS VIDEO ▶ \\n\\nSUBSCRIBE ► http...</td>\n",
       "      <td>5339</td>\n",
       "    </tr>\n",
       "    <tr>\n",
       "      <th>3</th>\n",
       "      <td>343168</td>\n",
       "      <td>2017-11-13T11:00:04.000Z</td>\n",
       "      <td>10172</td>\n",
       "      <td>2146</td>\n",
       "      <td>rhett and link|\"gmm\"|\"good mythical morning\"|\"...</td>\n",
       "      <td>Today we find out if Link is a Nickelback amat...</td>\n",
       "      <td>666</td>\n",
       "    </tr>\n",
       "    <tr>\n",
       "      <th>4</th>\n",
       "      <td>2095731</td>\n",
       "      <td>2017-11-12T18:01:41.000Z</td>\n",
       "      <td>132235</td>\n",
       "      <td>17518</td>\n",
       "      <td>ryan|\"higa\"|\"higatv\"|\"nigahiga\"|\"i dare you\"|\"...</td>\n",
       "      <td>I know it's been a while since we did this sho...</td>\n",
       "      <td>1989</td>\n",
       "    </tr>\n",
       "  </tbody>\n",
       "</table>\n",
       "</div>"
      ],
      "text/plain": [
       "   view_count              published_at   likes  comment_count   \n",
       "0      748374  2017-11-13T17:13:01.000Z   57527          15954  \\\n",
       "1     2418783  2017-11-13T07:30:00.000Z   97185          12703   \n",
       "2     3191434  2017-11-12T19:05:24.000Z  146033           8181   \n",
       "3      343168  2017-11-13T11:00:04.000Z   10172           2146   \n",
       "4     2095731  2017-11-12T18:01:41.000Z  132235          17518   \n",
       "\n",
       "                                                tags   \n",
       "0                                    SHANtell martin  \\\n",
       "1  last week tonight trump presidency|\"last week ...   \n",
       "2  racist superman|\"rudy\"|\"mancuso\"|\"king\"|\"bach\"...   \n",
       "3  rhett and link|\"gmm\"|\"good mythical morning\"|\"...   \n",
       "4  ryan|\"higa\"|\"higatv\"|\"nigahiga\"|\"i dare you\"|\"...   \n",
       "\n",
       "                                         description  dislikes  \n",
       "0  SHANTELL'S CHANNEL - https://www.youtube.com/s...      2966  \n",
       "1  One year after the presidential election, John...      6146  \n",
       "2  WATCH MY PREVIOUS VIDEO ▶ \\n\\nSUBSCRIBE ► http...      5339  \n",
       "3  Today we find out if Link is a Nickelback amat...       666  \n",
       "4  I know it's been a while since we did this sho...      1989  "
      ]
     },
     "execution_count": 15,
     "metadata": {},
     "output_type": "execute_result"
    }
   ],
   "source": [
    "#prediction on additional dataset\n",
    "dataset = pd.read_csv('data/USvideos.csv')\n",
    "dataset = dataset[['views', 'publish_time','likes', 'comment_count','tags','description','dislikes']]\n",
    "dataset.rename(columns = {'views':'view_count', 'publish_time':'published_at'}, inplace = True)\n",
    "\n",
    "dataset.head()"
   ]
  },
  {
   "cell_type": "code",
   "execution_count": 16,
   "id": "f2d6c44d-e022-48c0-891c-d063d8117204",
   "metadata": {
    "tags": []
   },
   "outputs": [
    {
     "data": {
      "text/plain": [
       "view_count       0\n",
       "published_at     0\n",
       "likes            0\n",
       "comment_count    0\n",
       "tags             0\n",
       "description      0\n",
       "dislikes         0\n",
       "dtype: int64"
      ]
     },
     "execution_count": 16,
     "metadata": {},
     "output_type": "execute_result"
    }
   ],
   "source": [
    "#remove null values\n",
    "dataset.replace(\" \", np.nan, inplace=True)\n",
    "dataset = dataset.dropna()\n",
    "dataset.isna().sum()\n"
   ]
  },
  {
   "cell_type": "code",
   "execution_count": 17,
   "id": "2cc50f93-84f1-43c7-b91f-5d0c9e944a35",
   "metadata": {
    "tags": []
   },
   "outputs": [],
   "source": [
    "#Redefine time as this dataset was collected at a different time\n",
    "def calTime(time):\n",
    "  start = datetime.strptime(time, '%Y-%m-%dT%H:%M:%S.000Z')\n",
    "  end =   datetime.strptime('13/06/2019 00:00:00', '%d/%m/%Y %H:%M:%S') # assuming this is the date that this dataset was extracted\n",
    "  return np.round((end - start).total_seconds() / 60, 2)\n",
    "\n",
    "dataset['timesec'] = dataset['published_at'].apply(calTime)"
   ]
  },
  {
   "cell_type": "code",
   "execution_count": 18,
   "id": "a94e1f63-15bf-4cd6-9762-babfcf0cc1b3",
   "metadata": {
    "tags": []
   },
   "outputs": [
    {
     "name": "stderr",
     "output_type": "stream",
     "text": [
      "C:\\Users\\laush\\AppData\\Local\\Temp\\ipykernel_3796\\3567969374.py:6: MarkupResemblesLocatorWarning: The input looks more like a filename than markup. You may want to open this file and pass the filehandle into Beautiful Soup.\n",
      "  text = BeautifulSoup(text, \"lxml\").text\n",
      "C:\\Users\\laush\\AppData\\Local\\Temp\\ipykernel_3796\\3567969374.py:6: MarkupResemblesLocatorWarning: The input looks more like a URL than markup. You may want to use an HTTP client like requests to get the document behind the URL, and feed that document to Beautiful Soup.\n",
      "  text = BeautifulSoup(text, \"lxml\").text\n"
     ]
    },
    {
     "name": "stdout",
     "output_type": "stream",
     "text": [
      "CPU times: total: 9min 17s\n",
      "Wall time: 9min 17s\n"
     ]
    },
    {
     "name": "stderr",
     "output_type": "stream",
     "text": [
      "C:\\Users\\laush\\AppData\\Local\\Temp\\ipykernel_3796\\3567969374.py:6: MarkupResemblesLocatorWarning: The input looks more like a filename than markup. You may want to open this file and pass the filehandle into Beautiful Soup.\n",
      "  text = BeautifulSoup(text, \"lxml\").text\n",
      "C:\\Users\\laush\\AppData\\Local\\Temp\\ipykernel_3796\\3567969374.py:6: MarkupResemblesLocatorWarning: The input looks more like a URL than markup. You may want to use an HTTP client like requests to get the document behind the URL, and feed that document to Beautiful Soup.\n",
      "  text = BeautifulSoup(text, \"lxml\").text\n"
     ]
    },
    {
     "name": "stdout",
     "output_type": "stream",
     "text": [
      "CPU times: total: 2min 19s\n",
      "Wall time: 2min 19s\n"
     ]
    }
   ],
   "source": [
    "%time dataset['clean_description'] = dataset['description'].apply(clean_text)\n",
    "%time dataset['clean_tags'] = dataset['tags'].apply(clean_text)"
   ]
  },
  {
   "cell_type": "code",
   "execution_count": 19,
   "id": "14c4d612-1ca5-4ab6-b6d7-fb669c30f72d",
   "metadata": {
    "tags": []
   },
   "outputs": [],
   "source": [
    "#data splitting\n",
    "\n",
    "X = dataset.loc[:, dataset.columns != 'dislikes']\n",
    "Y = dataset['dislikes'].values\n",
    "\n",
    "X_numaric = X[['view_count', 'likes', 'comment_count', 'timesec']].values\n",
    "X_tags = X['clean_tags'].values\n",
    "X_desc = X['clean_description'].values"
   ]
  },
  {
   "cell_type": "code",
   "execution_count": 20,
   "id": "59632537-eaa2-48f3-adff-108eca42df23",
   "metadata": {
    "tags": []
   },
   "outputs": [],
   "source": [
    "#tokenize\n",
    "\n",
    "X_tags_processed = Tokenizer_func(tags_later,X_tags)\n",
    "X_train_tags,X_tags,x_tags_voc,x_tags_max_words,x_tag_tok = X_tags_processed['train'], X_tags_processed['test'],X_tags_processed['voc'],X_tags_processed['max_words'],X_tags_processed['tokenizer']\n",
    "X_desc_processed = Tokenizer_func(desc_later,X_desc)\n",
    "X_train_desc, X_desc,x_desc_voc,x_desc_max_words,x_desc_tok = X_desc_processed['train'], X_desc_processed['test'],X_desc_processed['voc'],X_desc_processed['max_words'],X_desc_processed['tokenizer']"
   ]
  },
  {
   "cell_type": "code",
   "execution_count": 21,
   "id": "628378b5-ba9e-4642-9bef-ecac3cc0fb49",
   "metadata": {},
   "outputs": [],
   "source": [
    "#normalize numerical data\n",
    "X_numaric = Sc.transform(X_numaric)"
   ]
  },
  {
   "cell_type": "code",
   "execution_count": 22,
   "id": "bcb55716-b368-4cc2-821c-0be793bce7a0",
   "metadata": {
    "tags": []
   },
   "outputs": [
    {
     "name": "stdout",
     "output_type": "stream",
     "text": [
      "1262/1262 [==============================] - 32s 25ms/step\n",
      "Mean Absolute Error (MAE) - Test data :  3141.394176743855\n",
      "Mean Squared Error (MSE) - Test data :  432500179.6998947\n",
      "Root Mean Squared Error (RMSE) - Test data :  20796.638663493068\n",
      "Co-efficient of determination (R2 Score):  0.19484647235245056\n"
     ]
    }
   ],
   "source": [
    "#prediction on data\n",
    "prediction = model.predict([X_tags, X_desc, X_numaric])\n",
    "\n",
    "print(\"Mean Absolute Error (MAE) - Test data : \", metrics.mean_absolute_error(Y, prediction))\n",
    "print(\"Mean Squared Error (MSE) - Test data : \", metrics.mean_squared_error(Y, prediction))\n",
    "print(\"Root Mean Squared Error (RMSE) - Test data : \", np.sqrt(metrics.mean_squared_error(Y, prediction)))\n",
    "print(\"Co-efficient of determination (R2 Score): \", metrics.r2_score(Y, prediction))"
   ]
  },
  {
   "cell_type": "markdown",
   "id": "8f4b3bf7-0c54-4f89-b801-43542444f884",
   "metadata": {},
   "source": [
    "Overall Deep learning can get much better results as compared to linear regression in this problem and with more fine tuning of the model and more data, it has the potential to be even better."
   ]
  },
  {
   "cell_type": "code",
   "execution_count": null,
   "id": "56eb6882-89d4-4e51-93df-bbcc252629a5",
   "metadata": {},
   "outputs": [],
   "source": []
  }
 ],
 "metadata": {
  "kernelspec": {
   "display_name": "Python 3 (ipykernel)",
   "language": "python",
   "name": "python3"
  },
  "language_info": {
   "codemirror_mode": {
    "name": "ipython",
    "version": 3
   },
   "file_extension": ".py",
   "mimetype": "text/x-python",
   "name": "python",
   "nbconvert_exporter": "python",
   "pygments_lexer": "ipython3",
   "version": "3.9.6"
  }
 },
 "nbformat": 4,
 "nbformat_minor": 5
}
